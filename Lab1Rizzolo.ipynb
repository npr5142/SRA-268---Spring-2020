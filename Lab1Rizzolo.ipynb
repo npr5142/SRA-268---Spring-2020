{
  "nbformat": 4,
  "nbformat_minor": 0,
  "metadata": {
    "colab": {
      "name": "Lab1Rizzolo.ipynb",
      "provenance": [],
      "authorship_tag": "ABX9TyODRl6pTJvoEAboB3+1DFI3",
      "include_colab_link": true
    },
    "kernelspec": {
      "name": "python3",
      "display_name": "Python 3"
    }
  },
  "cells": [
    {
      "cell_type": "markdown",
      "metadata": {
        "id": "view-in-github",
        "colab_type": "text"
      },
      "source": [
        "<a href=\"https://colab.research.google.com/github/npr5142/SRA-268---Spring-2020/blob/master/Lab1Rizzolo.ipynb\" target=\"_parent\"><img src=\"https://colab.research.google.com/assets/colab-badge.svg\" alt=\"Open In Colab\"/></a>"
      ]
    },
    {
      "cell_type": "code",
      "metadata": {
        "id": "Kv7C5IfYBSBW",
        "colab_type": "code",
        "colab": {}
      },
      "source": [
        ""
      ],
      "execution_count": 0,
      "outputs": []
    },
    {
      "cell_type": "markdown",
      "metadata": {
        "id": "ipHzW-LKBdoo",
        "colab_type": "text"
      },
      "source": [
        "# Title\n",
        "Snowfall Occurance"
      ]
    },
    {
      "cell_type": "markdown",
      "metadata": {
        "id": "K7qbVyVBBiyi",
        "colab_type": "text"
      },
      "source": [
        "# Description\n",
        "  Snowfall in the United States is becoming increasingly sparse and delayed. There used to be snowfall constantly in November and December years ago, but lately the precipitation seems to come later like January and last until March. Because of these trends, it has become apparent that our atmosphere is heating up and temperatures are higher than they were before. However, in this project im looking for the average amount of snowfall every december compared to earlier years, compared to January."
      ]
    },
    {
      "cell_type": "markdown",
      "metadata": {
        "id": "uGTzVnxvBvbf",
        "colab_type": "text"
      },
      "source": [
        "# Graph\n",
        "![alt text](https://raw.githubusercontent.com/npr5142/SRA-268---Spring-2020/master/SRA%20269%20Graph.png)"
      ]
    },
    {
      "cell_type": "markdown",
      "metadata": {
        "id": "JVdCOaB9B83n",
        "colab_type": "text"
      },
      "source": [
        "# Conclusion\n",
        "In Conclusion, it seemed that although it was exponantially colder in January than in December. The data, besides December of 2018, was rather consistent with both months. I had thought that there had been more snow than the other but each month had a similar amount of snow events. However, the amount of snow events were measly which should raise concern."
      ]
    }
  ]
}