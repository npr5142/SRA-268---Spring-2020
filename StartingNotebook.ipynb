{
  "nbformat": 4,
  "nbformat_minor": 0,
  "metadata": {
    "colab": {
      "name": "StartingNotebook.ipynb",
      "provenance": [],
      "collapsed_sections": [],
      "authorship_tag": "ABX9TyOhOw95/R/Ztl8vypxl6rfp",
      "include_colab_link": true
    },
    "kernelspec": {
      "name": "python2",
      "display_name": "Python 2"
    }
  },
  "cells": [
    {
      "cell_type": "markdown",
      "metadata": {
        "id": "view-in-github",
        "colab_type": "text"
      },
      "source": [
        "<a href=\"https://colab.research.google.com/github/npr5142/SRA-268---Spring-2020/blob/master/StartingNotebook.ipynb\" target=\"_parent\"><img src=\"https://colab.research.google.com/assets/colab-badge.svg\" alt=\"Open In Colab\"/></a>"
      ]
    },
    {
      "cell_type": "code",
      "metadata": {
        "id": "4Wu6e70O5Qb6",
        "colab_type": "code",
        "colab": {
          "base_uri": "https://localhost:8080/",
          "height": 34
        },
        "outputId": "e85744d2-c33a-4a65-9a50-18cbaaa61a32"
      },
      "source": [
        "2+2"
      ],
      "execution_count": 1,
      "outputs": [
        {
          "output_type": "execute_result",
          "data": {
            "text/plain": [
              "4"
            ]
          },
          "metadata": {
            "tags": []
          },
          "execution_count": 1
        }
      ]
    },
    {
      "cell_type": "markdown",
      "metadata": {
        "id": "ZcWshDx95l6V",
        "colab_type": "text"
      },
      "source": [
        "Some Text"
      ]
    },
    {
      "cell_type": "markdown",
      "metadata": {
        "id": "rEKrA8wF67ua",
        "colab_type": "text"
      },
      "source": [
        "(https://raw.githubusercontent.com/npr5142/SRA-268---Spring-2020/master/Screen%20Shot%202019-10-02%20at%202.21.23%20AM.png)"
      ]
    }
  ]
}